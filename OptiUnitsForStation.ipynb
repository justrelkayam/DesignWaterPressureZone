{
  "nbformat": 4,
  "nbformat_minor": 0,
  "metadata": {
    "colab": {
      "name": "OptiUnitsForStation.ipynb",
      "provenance": [],
      "mount_file_id": "1QJWUFBdsQ-2KzzM45maTMta61vYubC4I",
      "authorship_tag": "ABX9TyO71VuK4YKd3JfEJB3EgrP0",
      "include_colab_link": true
    },
    "kernelspec": {
      "name": "python3",
      "display_name": "Python 3"
    },
    "language_info": {
      "name": "python"
    }
  },
  "cells": [
    {
      "cell_type": "markdown",
      "metadata": {
        "id": "view-in-github",
        "colab_type": "text"
      },
      "source": [
        "<a href=\"https://colab.research.google.com/github/justrelkayam/DesignWaterPressureZone/blob/main/OptiUnitsForStation.ipynb\" target=\"_parent\"><img src=\"https://colab.research.google.com/assets/colab-badge.svg\" alt=\"Open In Colab\"/></a>"
      ]
    },
    {
      "cell_type": "markdown",
      "source": [
        "נתקין את החבילות הבאות"
      ],
      "metadata": {
        "id": "uwhMB5K3CbI3"
      }
    },
    {
      "cell_type": "code",
      "execution_count": null,
      "metadata": {
        "id": "no0_DcF1CKDB"
      },
      "outputs": [],
      "source": [
        "!pip install pulp"
      ]
    },
    {
      "cell_type": "code",
      "source": [
        "from google.colab import drive\n",
        "drive.mount('/content/drive/')\n"
      ],
      "metadata": {
        "colab": {
          "base_uri": "https://localhost:8080/"
        },
        "id": "hpC1fMCna1o5",
        "outputId": "292c9791-ce32-47a3-e8bb-f3d9c7ca8524"
      },
      "execution_count": 4,
      "outputs": [
        {
          "output_type": "stream",
          "name": "stdout",
          "text": [
            "Drive already mounted at /content/drive/; to attempt to forcibly remount, call drive.mount(\"/content/drive/\", force_remount=True).\n"
          ]
        }
      ]
    },
    {
      "cell_type": "code",
      "source": [
        "import os\n",
        "# my_files_folder = MyDrive.UnitsForStation\n",
        "my_files_folder = '/content/drive/MyDrive/UnitsForStation'\n",
        "\n"
      ],
      "metadata": {
        "id": "iJZgkJZ6fr8M"
      },
      "execution_count": 43,
      "outputs": []
    },
    {
      "cell_type": "markdown",
      "source": [
        " קלס לגרפיקה"
      ],
      "metadata": {
        "id": "PBY8i2LCFWLd"
      }
    },
    {
      "cell_type": "code",
      "source": [
        "import pandas as pd\n",
        "import matplotlib.pyplot as plt\n",
        "import seaborn as sns \n",
        "%matplotlib inline  \n",
        "\n",
        "\n",
        "class PlotByDfColumn(object):\n",
        "  def __init__(self, df, x, y, plot_type='scatter'):\n",
        "    self.df = df\n",
        "    self.x = x\n",
        "    self.y = y\n",
        "    self.plot_type = plot_type\n",
        "\n",
        "  def plot(self):\n",
        "    if self.plot_type == \"scatter\":\n",
        "      self.plot_scatter()\n",
        "\n",
        "    elif self.plot_type == \"line\":\n",
        "      self.plot_line()\n",
        "\n",
        "  def plot_scatter(self):\n",
        "    return self.df.plot.scatter(x=self.x , y=self.y, c='DarkBlue')\n",
        "\n",
        "  def plot_line(self):\n",
        "    return self.df.plot.line(x=self.x , y=self.y, c='DarkBlue')\n"
      ],
      "metadata": {
        "id": "yUNRBwS3FVsd"
      },
      "execution_count": 20,
      "outputs": []
    },
    {
      "cell_type": "code",
      "source": [
        ""
      ],
      "metadata": {
        "id": "UOhoW0X_GrVc"
      },
      "execution_count": null,
      "outputs": []
    },
    {
      "cell_type": "markdown",
      "source": [
        "קצת תאוריה\n"
      ],
      "metadata": {
        "id": "Wy00Kt1nDOUT"
      }
    },
    {
      "cell_type": "markdown",
      "source": [
        "  הקשר בין גובה הרמה לספיקה לשלוש יחידות שאיבה שעובדות במקביל מתואר באופן הבא"
      ],
      "metadata": {
        "id": "GaTPR-RkE1zZ"
      }
    },
    {
      "cell_type": "code",
      "source": [
        "import pandas as pd\n",
        "data_file = 'curv.xlsx'\n",
        "data_file = os.path.join(my_files_folder, data_file)\n",
        "\n",
        "df_data = pd.read_excel(file)\n",
        "df = df_data.loc[df_data['pump'] == 1]\n",
        "ax = df.plot.line(x='q', y='dh', c='DarkBlue')\n",
        "ax2 = df.plot.line(x='q', y='ni', c='red', ax=ax, secondary_y=True)\n",
        "ax3 = df.plot.scatter(x='q', y='ni', c='yellow', ax=ax, secondary_y=True)\n",
        "ax4 = df.plot.scatter(x='q', y='dh', c='grey', ax=ax, secondary_y=True)\n",
        "\n",
        "\n"
      ],
      "metadata": {
        "colab": {
          "base_uri": "https://localhost:8080/",
          "height": 279
        },
        "id": "PWtpWfqBFTnJ",
        "outputId": "c59ca65e-1be0-4596-d295-c01513839844"
      },
      "execution_count": 41,
      "outputs": [
        {
          "output_type": "display_data",
          "data": {
            "text/plain": [
              "<Figure size 432x288 with 2 Axes>"
            ],
            "image/png": "[encoded data removed]"
          },
          "metadata": {
            "needs_background": "light"
          }
        }
      ]
    },
    {
      "cell_type": "markdown",
      "source": [
        "דוגמה לאופטימיזציה באמצעות PULP\n"
      ],
      "metadata": {
        "id": "t63xM1JTk3Tg"
      }
    },
    {
      "cell_type": "code",
      "source": [
        "from pulp.constants import LpMaximize\n",
        "import pulp\n",
        "from pulp import LpProblem, LpMinimize, LpStatus, lpSum, LpVariable, PULP_CBC_CMD\n",
        "\n",
        "# Create model\n",
        "model = LpProblem(name=\"opti_Q_H\", sense=LpMaximize)\n",
        "\n",
        "# Create decision variables\n",
        "q_var = LpVariable(\"q\", 0, 100)\n",
        "dh_var = LpVariable(\"dh\", 0, 50)\n",
        "ni_var = LpVariable(\"ni\", 0, 100)\n",
        "\n",
        "\n",
        "# Create objective\n",
        "model += ni_var \n",
        "\n",
        "# Add constraints\n",
        "model += ni_var  * 30 + dh_var - q_var <= 2000\n",
        "\n",
        "# Solve model\n",
        "status = model.solve(PULP_CBC_CMD(msg=False))\n",
        "\n",
        "# Get results\n",
        "print(LpStatus[status])\n",
        "print(\"\")\n",
        "print(model)\n",
        "\n",
        "print('dh value', dh_var.value())\n",
        "print('q value', q_var.value())\n",
        "print('ni value', ni_var.value())\n",
        "\n"
      ],
      "metadata": {
        "colab": {
          "base_uri": "https://localhost:8080/"
        },
        "id": "sU8mgl0ok8kO",
        "outputId": "fad15afe-4794-4ed7-9b77-f4dc8f81bb67"
      },
      "execution_count": 42,
      "outputs": [
        {
          "output_type": "stream",
          "name": "stdout",
          "text": [
            "Optimal\n",
            "\n",
            "opti_Q_H:\n",
            "MAXIMIZE\n",
            "1*ni + 0\n",
            "SUBJECT TO\n",
            "_C1: dh + 30 ni - q <= 2000\n",
            "\n",
            "VARIABLES\n",
            "dh <= 50 Continuous\n",
            "ni <= 100 Continuous\n",
            "q <= 100 Continuous\n",
            "\n",
            "dh value 0.0\n",
            "q value 100.0\n",
            "ni value 70.0\n"
          ]
        }
      ]
    }
  ]
}